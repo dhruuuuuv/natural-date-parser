{
 "cells": [
  {
   "cell_type": "code",
   "execution_count": 62,
   "metadata": {},
   "outputs": [],
   "source": [
    "import dateparser as dp\n",
    "import datetime as dt\n",
    "import json\n",
    "import os\n",
    "from sutime import SUTime"
   ]
  },
  {
   "cell_type": "code",
   "execution_count": 63,
   "metadata": {},
   "outputs": [
    {
     "name": "stdout",
     "output_type": "stream",
     "text": [
      "date: yesterday\n",
      "from 11:41:27 on 02-05-19 to 11:41:27 on 03-05-19\n",
      "date: last week\n",
      "from 11:41:27 on 26-04-19 to 11:41:27 on 03-05-19\n",
      "date: last month\n",
      "from 11:41:27 on 03-04-19 to 11:41:27 on 03-05-19\n",
      "date: last year\n",
      "from 11:41:27 on 03-05-18 to 11:41:27 on 03-05-19\n",
      "date: 1 week ago\n",
      "from 11:41:27 on 26-04-19 to 11:41:27 on 03-05-19\n",
      "date: one week ago\n",
      "None\n",
      "date: 2 hours ago\n",
      "from 09:41:27 on 03-05-19 to 11:41:27 on 03-05-19\n",
      "date: day before yesterday\n",
      "from 11:41:27 on 01-05-19 to 11:41:27 on 03-05-19\n",
      "date: five hours ago\n",
      "None\n",
      "date: last year\n",
      "from 11:41:27 on 03-05-18 to 11:41:27 on 03-05-19\n",
      "date: next tuesday\n",
      "None\n",
      "date: next week\n",
      "from 11:41:27 on 10-05-19 to 11:41:27 on 03-05-19\n",
      "date: following week\n",
      "None\n",
      "date: manaña\n",
      "from 11:41:27 on 04-05-19 to 11:41:27 on 03-05-19\n",
      "date: in one week\n",
      "None\n",
      "date: pineapple\n",
      "None\n",
      "date: 02-04-1995 to 01-05-1995\n",
      "None\n"
     ]
    }
   ],
   "source": [
    "list_of_natural_date_ranges = [\n",
    "    'yesterday',\n",
    "    'last week',\n",
    "    'last month',\n",
    "    'last year',\n",
    "    '1 week ago',\n",
    "    'one week ago',\n",
    "    '2 hours ago',\n",
    "    'day before yesterday',\n",
    "    'five hours ago',\n",
    "    'last year',\n",
    "    'next tuesday',\n",
    "    'next week',\n",
    "    'following week',\n",
    "    'manaña',\n",
    "    'in one week',\n",
    "    'pineapple',\n",
    "    '02-04-1995 to 01-05-1995'\n",
    "]\n",
    "\n",
    "for date in list_of_natural_date_ranges:\n",
    "    parsed_date = dp.parse(date)\n",
    "    print('date: {}'.format(date))\n",
    "    if parsed_date == None:\n",
    "        print('None')\n",
    "    else:\n",
    "        formatted = parsed_date.strftime('%H:%M:%S on %d-%m-%y')\n",
    "        today = dt.datetime.now().strftime('%H:%M:%S on %d-%m-%y')\n",
    "        print('from {date} to {today}'.format(date=formatted, today=today))\n"
   ]
  },
  {
   "cell_type": "code",
   "execution_count": 66,
   "metadata": {},
   "outputs": [
    {
     "ename": "RuntimeError",
     "evalue": "Not all necessary Java dependencies have been downloaded!",
     "output_type": "error",
     "traceback": [
      "\u001b[0;31m---------------------------------------------------------------------------\u001b[0m",
      "\u001b[0;31mRuntimeError\u001b[0m                              Traceback (most recent call last)",
      "\u001b[0;32m<ipython-input-66-8c715c388f3d>\u001b[0m in \u001b[0;36m<module>\u001b[0;34m\u001b[0m\n\u001b[1;32m      1\u001b[0m \u001b[0mjar_files\u001b[0m \u001b[0;34m=\u001b[0m \u001b[0mos\u001b[0m\u001b[0;34m.\u001b[0m\u001b[0mpath\u001b[0m\u001b[0;34m.\u001b[0m\u001b[0mjoin\u001b[0m\u001b[0;34m(\u001b[0m\u001b[0mos\u001b[0m\u001b[0;34m.\u001b[0m\u001b[0mpath\u001b[0m\u001b[0;34m.\u001b[0m\u001b[0mabspath\u001b[0m\u001b[0;34m(\u001b[0m\u001b[0;34m''\u001b[0m\u001b[0;34m)\u001b[0m\u001b[0;34m,\u001b[0m \u001b[0;34m'jars'\u001b[0m\u001b[0;34m)\u001b[0m\u001b[0;34m\u001b[0m\u001b[0;34m\u001b[0m\u001b[0m\n\u001b[0;32m----> 2\u001b[0;31m \u001b[0msutime\u001b[0m \u001b[0;34m=\u001b[0m \u001b[0mSUTime\u001b[0m\u001b[0;34m(\u001b[0m\u001b[0mjars\u001b[0m\u001b[0;34m=\u001b[0m\u001b[0mjar_files\u001b[0m\u001b[0;34m,\u001b[0m \u001b[0mmark_time_ranges\u001b[0m\u001b[0;34m=\u001b[0m\u001b[0;32mTrue\u001b[0m\u001b[0;34m)\u001b[0m\u001b[0;34m\u001b[0m\u001b[0;34m\u001b[0m\u001b[0m\n\u001b[0m\u001b[1;32m      3\u001b[0m \u001b[0;34m\u001b[0m\u001b[0m\n\u001b[1;32m      4\u001b[0m \u001b[0;32mfor\u001b[0m \u001b[0mdate\u001b[0m \u001b[0;32min\u001b[0m \u001b[0mlist_of_natural_date_ranges\u001b[0m\u001b[0;34m:\u001b[0m\u001b[0;34m\u001b[0m\u001b[0;34m\u001b[0m\u001b[0m\n\u001b[1;32m      5\u001b[0m     \u001b[0mprint\u001b[0m\u001b[0;34m(\u001b[0m\u001b[0mjson\u001b[0m\u001b[0;34m.\u001b[0m\u001b[0mdumps\u001b[0m\u001b[0;34m(\u001b[0m\u001b[0msutime\u001b[0m\u001b[0;34m.\u001b[0m\u001b[0mparse\u001b[0m\u001b[0;34m(\u001b[0m\u001b[0mdate\u001b[0m\u001b[0;34m)\u001b[0m\u001b[0;34m,\u001b[0m \u001b[0msort_keys\u001b[0m\u001b[0;34m=\u001b[0m\u001b[0;32mTrue\u001b[0m\u001b[0;34m,\u001b[0m \u001b[0mindent\u001b[0m\u001b[0;34m=\u001b[0m\u001b[0;36m2\u001b[0m\u001b[0;34m)\u001b[0m\u001b[0;34m)\u001b[0m\u001b[0;34m\u001b[0m\u001b[0;34m\u001b[0m\u001b[0m\n",
      "\u001b[0;32m/usr/local/lib/python3.7/site-packages/sutime/sutime.py\u001b[0m in \u001b[0;36m__init__\u001b[0;34m(self, jars, jvm_started, mark_time_ranges, include_range)\u001b[0m\n\u001b[1;32m     44\u001b[0m \u001b[0;34m\u001b[0m\u001b[0m\n\u001b[1;32m     45\u001b[0m     \u001b[0m_supported_languages\u001b[0m \u001b[0;34m=\u001b[0m \u001b[0;34m{\u001b[0m\u001b[0;34m\"english\"\u001b[0m\u001b[0;34m,\u001b[0m \u001b[0;34m\"en\"\u001b[0m\u001b[0;34m,\u001b[0m \u001b[0;34m\"british\"\u001b[0m\u001b[0;34m,\u001b[0m \u001b[0;34m\"spanish\"\u001b[0m\u001b[0;34m,\u001b[0m \u001b[0;34m\"es\"\u001b[0m\u001b[0;34m}\u001b[0m\u001b[0;34m\u001b[0m\u001b[0;34m\u001b[0m\u001b[0m\n\u001b[0;32m---> 46\u001b[0;31m \u001b[0;34m\u001b[0m\u001b[0m\n\u001b[0m\u001b[1;32m     47\u001b[0m     def __init__(\n\u001b[1;32m     48\u001b[0m         \u001b[0mself\u001b[0m\u001b[0;34m,\u001b[0m\u001b[0;34m\u001b[0m\u001b[0;34m\u001b[0m\u001b[0m\n",
      "\u001b[0;32m/usr/local/lib/python3.7/site-packages/sutime/sutime.py\u001b[0m in \u001b[0;36m_create_classpath\u001b[0;34m(self)\u001b[0m\n\u001b[1;32m     85\u001b[0m                 \u001b[0;32mif\u001b[0m \u001b[0mfile_name\u001b[0m\u001b[0;34m.\u001b[0m\u001b[0mendswith\u001b[0m\u001b[0;34m(\u001b[0m\u001b[0;34m\".jar\"\u001b[0m\u001b[0;34m)\u001b[0m\u001b[0;34m:\u001b[0m\u001b[0;34m\u001b[0m\u001b[0;34m\u001b[0m\u001b[0m\n\u001b[1;32m     86\u001b[0m                     \u001b[0mjars\u001b[0m\u001b[0;34m.\u001b[0m\u001b[0mappend\u001b[0m\u001b[0;34m(\u001b[0m\u001b[0mos\u001b[0m\u001b[0;34m.\u001b[0m\u001b[0mpath\u001b[0m\u001b[0;34m.\u001b[0m\u001b[0mjoin\u001b[0m\u001b[0;34m(\u001b[0m\u001b[0mtop\u001b[0m\u001b[0;34m,\u001b[0m \u001b[0mfile_name\u001b[0m\u001b[0;34m)\u001b[0m\u001b[0;34m)\u001b[0m\u001b[0;34m\u001b[0m\u001b[0;34m\u001b[0m\u001b[0m\n\u001b[0;32m---> 87\u001b[0;31m                     \u001b[0mjar_file_names\u001b[0m\u001b[0;34m.\u001b[0m\u001b[0mappend\u001b[0m\u001b[0;34m(\u001b[0m\u001b[0mfile_name\u001b[0m\u001b[0;34m)\u001b[0m\u001b[0;34m\u001b[0m\u001b[0;34m\u001b[0m\u001b[0m\n\u001b[0m\u001b[1;32m     88\u001b[0m         \u001b[0;32mif\u001b[0m \u001b[0;32mnot\u001b[0m \u001b[0mSUTime\u001b[0m\u001b[0;34m.\u001b[0m\u001b[0m_required_jars\u001b[0m\u001b[0;34m.\u001b[0m\u001b[0missubset\u001b[0m\u001b[0;34m(\u001b[0m\u001b[0mjar_file_names\u001b[0m\u001b[0;34m)\u001b[0m\u001b[0;34m:\u001b[0m\u001b[0;34m\u001b[0m\u001b[0;34m\u001b[0m\u001b[0m\n\u001b[1;32m     89\u001b[0m             raise RuntimeError(\n",
      "\u001b[0;31mRuntimeError\u001b[0m: Not all necessary Java dependencies have been downloaded!"
     ]
    }
   ],
   "source": [
    "jar_files = os.path.join(os.path.abspath(''), 'jars')\n",
    "sutime = SUTime(jars=jar_files, mark_time_ranges=True)\n",
    "\n",
    "for date in list_of_natural_date_ranges:\n",
    "    print(json.dumps(sutime.parse(date), sort_keys=True, indent=2))"
   ]
  },
  {
   "cell_type": "code",
   "execution_count": null,
   "metadata": {},
   "outputs": [],
   "source": []
  },
  {
   "cell_type": "code",
   "execution_count": null,
   "metadata": {},
   "outputs": [],
   "source": []
  },
  {
   "cell_type": "code",
   "execution_count": null,
   "metadata": {},
   "outputs": [],
   "source": []
  }
 ],
 "metadata": {
  "kernelspec": {
   "display_name": "Python 3",
   "language": "python",
   "name": "python3"
  },
  "language_info": {
   "codemirror_mode": {
    "name": "ipython",
    "version": 3
   },
   "file_extension": ".py",
   "mimetype": "text/x-python",
   "name": "python",
   "nbconvert_exporter": "python",
   "pygments_lexer": "ipython3",
   "version": "3.7.3"
  },
  "varInspector": {
   "cols": {
    "lenName": 16,
    "lenType": 16,
    "lenVar": 40
   },
   "kernels_config": {
    "python": {
     "delete_cmd_postfix": "",
     "delete_cmd_prefix": "del ",
     "library": "var_list.py",
     "varRefreshCmd": "print(var_dic_list())"
    },
    "r": {
     "delete_cmd_postfix": ") ",
     "delete_cmd_prefix": "rm(",
     "library": "var_list.r",
     "varRefreshCmd": "cat(var_dic_list()) "
    }
   },
   "types_to_exclude": [
    "module",
    "function",
    "builtin_function_or_method",
    "instance",
    "_Feature"
   ],
   "window_display": false
  }
 },
 "nbformat": 4,
 "nbformat_minor": 2
}
